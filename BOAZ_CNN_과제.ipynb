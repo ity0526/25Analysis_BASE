{
  "cells": [
    {
      "cell_type": "code",
      "metadata": {
        "id": "gaXvKTIYi6r6",
        "ExecuteTime": {
          "end_time": "2025-07-23T04:42:53.827614Z",
          "start_time": "2025-07-23T04:42:51.774902Z"
        }
      },
      "source": [
        "# 그럼 첫번째 레슨 : 라이브러리 불러오기\n",
        "\n",
        "#필요한 딥러닝 관련 라이브러리를 불러옵니다.\n",
        "\n",
        "import tensorflow as tf\n",
        "from tensorflow.keras import datasets, layers, models\n",
        "import matplotlib.pyplot as plt"
      ],
      "outputs": [],
      "execution_count": 1
    },
    {
      "cell_type": "code",
      "metadata": {
        "colab": {
          "base_uri": "https://localhost:8080/"
        },
        "id": "JQ4PgaVJjDaZ",
        "outputId": "60f0678e-e741-40a9-a21c-cf949c0b991a",
        "ExecuteTime": {
          "end_time": "2025-07-23T04:43:36.409211Z",
          "start_time": "2025-07-23T04:42:58.924916Z"
        }
      },
      "source": [
        "# 🗂️ Step 2: 데이터 불러오기\n",
        "\n",
        "#CIFAR-10 데이터셋을 불러오고, 학습용/테스트용으로 분리합니다.\n",
        "\n",
        "(train_images, train_labels), (test_images, test_labels) = datasets.cifar10.load_data()\n"
      ],
      "outputs": [
        {
          "output_type": "stream",
          "name": "stdout",
          "text": [
            "Downloading data from https://www.cs.toronto.edu/~kriz/cifar-10-python.tar.gz\n",
            "\u001b[1m170498071/170498071\u001b[0m \u001b[32m━━━━━━━━━━━━━━━━━━━━\u001b[0m\u001b[37m\u001b[0m \u001b[1m5s\u001b[0m 0us/step\n"
          ]
        }
      ],
      "execution_count": 2
    },
    {
      "cell_type": "markdown",
      "metadata": {
        "id": "_gQ0e_yomSLw"
      },
      "source": [
        "## 과제1. 데이터의 구조를 살펴보세요. 사이즈는?"
      ]
    },
    {
      "cell_type": "code",
      "execution_count": 3,
      "metadata": {
        "id": "w0i9tMIdmSLx"
      },
      "outputs": [],
      "source": [
        "# 여기에서 확인해 보세요."
      ]
    },
    {
      "cell_type": "code",
      "execution_count": 4,
      "metadata": {
        "id": "SvdfBtPFjLhm"
      },
      "outputs": [],
      "source": [
        "# 🏷️ Step 3: 클래스 이름 정의\n",
        "\n",
        "#CIFAR-10의 라벨은 숫자로 되어 있으므로, 사람이 이해할 수 있도록 이름을 부여합니다.\n",
        "class_names = ['airplane', 'automobile', 'bird', 'cat', 'deer',\n",
        "               'dog', 'frog', 'horse', 'ship', 'truck']"
      ]
    },
    {
      "cell_type": "markdown",
      "metadata": {
        "id": "e_Zdx8m3mSLy"
      },
      "source": [
        "## 과제2. 아래 코드의 빈칸을 채워 CNN 모델을 완성해보세요.\n",
        "#### layer나 패딩 혹은 drop out, batch normalization을 추가해 가며 모델의 정확도 변화를 보는 것도 좋습니다."
      ]
    },
    {
      "cell_type": "code",
      "execution_count": 16,
      "metadata": {
        "id": "b6KfEI2ljboP"
      },
      "outputs": [],
      "source": [
        "# 🧱 Step 4: CNN 모델 구성\n",
        "# Convolution → MaxPooling → Flatten → Dense 구조로 CNN을 설계합니다.\n",
        "# 아래의 빈칸 (___)을 채워 모델을 완성해보세요.\n",
        "\n",
        "model = models.Sequential()\n",
        "\n",
        "# 첫 번째 합성곱 레이어\n",
        "model.add(layers.Conv2D(64, (3, 3), activation='relu', input_shape=(32, 32, 3)))  # TODO: 커널 개수 설정\n",
        "\n",
        "# 첫 번째 풀링 레이어\n",
        "model.add(layers.MaxPooling2D((2, 2)))  # TODO: 풀링 크기 설정\n",
        "\n",
        "# 두 번째 합성곱 레이어\n",
        "model.add(layers.Conv2D(128, (3, 3), activation='relu'))  # TODO: 커널 크기 설정\n",
        "\n",
        "# 두 번째 풀링 레이어\n",
        "model.add(layers.MaxPooling2D((2, 2)))\n",
        "\n",
        "# 세 번째 합성곱 레이어\n",
        "model.add(layers.Conv2D(128, (3, 3), activation='relu'))  # TODO: 커널 개수 설정\n",
        "\n",
        "# Flatten + Fully Connected Layer\n",
        "model.add(layers.Flatten())\n",
        "model.add(layers.Dense(128))  # TODO: 은닉층 유닛 수 설정\n",
        "model.add(layers.Dense(10))  # 출력층: CIFAR-10은 클래스가 10개"
      ]
    },
    {
      "cell_type": "markdown",
      "metadata": {
        "id": "R04c3l6emSLy"
      },
      "source": [
        "## 자신이 채운 코드를 기반으로 각 레이어별 Feature Map 크기를 계산해 보세요.\n",
        "(padding은 디폴트로 없습니다.)"
      ]
    },
    {
      "cell_type": "markdown",
      "metadata": {
        "id": "bP6FTy0JmSLy"
      },
      "source": [
        "Answer:"
      ]
    },
    {
      "cell_type": "code",
      "execution_count": 17,
      "metadata": {
        "id": "e5GLqIzikILD"
      },
      "outputs": [],
      "source": [
        "# ⚙️ Step 5: 모델 컴파일\n",
        "\n",
        "#모델을 학습할 수 있도록 컴파일합니다. 손실 함수, 최적화 방법, 평가지표를 설정합니다.\n",
        "\n",
        "model.compile(optimizer='adam',\n",
        "              loss=tf.keras.losses.SparseCategoricalCrossentropy(from_logits=True),\n",
        "              metrics=['accuracy'])"
      ]
    },
    {
      "cell_type": "code",
      "execution_count": 18,
      "metadata": {
        "colab": {
          "base_uri": "https://localhost:8080/",
          "height": 830
        },
        "id": "i9HR7D_umSLz",
        "outputId": "aabf3d84-320e-4115-ee19-9e2401941d4a"
      },
      "outputs": [
        {
          "output_type": "stream",
          "name": "stdout",
          "text": [
            "Epoch 1/10\n",
            "\u001b[1m1563/1563\u001b[0m \u001b[32m━━━━━━━━━━━━━━━━━━━━\u001b[0m\u001b[37m\u001b[0m \u001b[1m13s\u001b[0m 6ms/step - accuracy: 0.2972 - loss: 4.0032 - val_accuracy: 0.4784 - val_loss: 1.4351\n",
            "Epoch 2/10\n",
            "\u001b[1m1563/1563\u001b[0m \u001b[32m━━━━━━━━━━━━━━━━━━━━\u001b[0m\u001b[37m\u001b[0m \u001b[1m7s\u001b[0m 4ms/step - accuracy: 0.5083 - loss: 1.3811 - val_accuracy: 0.5306 - val_loss: 1.3044\n",
            "Epoch 3/10\n",
            "\u001b[1m1563/1563\u001b[0m \u001b[32m━━━━━━━━━━━━━━━━━━━━\u001b[0m\u001b[37m\u001b[0m \u001b[1m7s\u001b[0m 4ms/step - accuracy: 0.5652 - loss: 1.2351 - val_accuracy: 0.5831 - val_loss: 1.1939\n",
            "Epoch 4/10\n",
            "\u001b[1m1563/1563\u001b[0m \u001b[32m━━━━━━━━━━━━━━━━━━━━\u001b[0m\u001b[37m\u001b[0m \u001b[1m10s\u001b[0m 4ms/step - accuracy: 0.6110 - loss: 1.1220 - val_accuracy: 0.6114 - val_loss: 1.1356\n",
            "Epoch 5/10\n",
            "\u001b[1m1563/1563\u001b[0m \u001b[32m━━━━━━━━━━━━━━━━━━━━\u001b[0m\u001b[37m\u001b[0m \u001b[1m10s\u001b[0m 4ms/step - accuracy: 0.6479 - loss: 1.0193 - val_accuracy: 0.6309 - val_loss: 1.0771\n",
            "Epoch 6/10\n",
            "\u001b[1m1563/1563\u001b[0m \u001b[32m━━━━━━━━━━━━━━━━━━━━\u001b[0m\u001b[37m\u001b[0m \u001b[1m6s\u001b[0m 4ms/step - accuracy: 0.6761 - loss: 0.9380 - val_accuracy: 0.6561 - val_loss: 1.0200\n",
            "Epoch 7/10\n",
            "\u001b[1m1563/1563\u001b[0m \u001b[32m━━━━━━━━━━━━━━━━━━━━\u001b[0m\u001b[37m\u001b[0m \u001b[1m11s\u001b[0m 4ms/step - accuracy: 0.7001 - loss: 0.8641 - val_accuracy: 0.6571 - val_loss: 1.0389\n",
            "Epoch 8/10\n",
            "\u001b[1m1563/1563\u001b[0m \u001b[32m━━━━━━━━━━━━━━━━━━━━\u001b[0m\u001b[37m\u001b[0m \u001b[1m10s\u001b[0m 4ms/step - accuracy: 0.7257 - loss: 0.8002 - val_accuracy: 0.6629 - val_loss: 1.0174\n",
            "Epoch 9/10\n",
            "\u001b[1m1563/1563\u001b[0m \u001b[32m━━━━━━━━━━━━━━━━━━━━\u001b[0m\u001b[37m\u001b[0m \u001b[1m7s\u001b[0m 4ms/step - accuracy: 0.7448 - loss: 0.7436 - val_accuracy: 0.6645 - val_loss: 1.0404\n",
            "Epoch 10/10\n",
            "\u001b[1m1563/1563\u001b[0m \u001b[32m━━━━━━━━━━━━━━━━━━━━\u001b[0m\u001b[37m\u001b[0m \u001b[1m6s\u001b[0m 4ms/step - accuracy: 0.7624 - loss: 0.6852 - val_accuracy: 0.6715 - val_loss: 1.0459\n",
            "313/313 - 1s - 3ms/step - accuracy: 0.6715 - loss: 1.0459\n"
          ]
        },
        {
          "output_type": "display_data",
          "data": {
            "text/plain": [
              "<Figure size 640x480 with 1 Axes>"
            ],
            "image/png": "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\n"
          },
          "metadata": {}
        }
      ],
      "source": [
        "# 🔥 Step 6: 모델 학습 및 성능 평가\n",
        "\n",
        "history = model.fit(train_images, train_labels, epochs=10,\n",
        "                    validation_data=(test_images, test_labels))\n",
        "#모델 성능 평가\n",
        "plt.plot(history.history['accuracy'],label='accuracy')\n",
        "plt.plot(history.history['val_accuracy'],label = 'val_accuracy')\n",
        "plt.xlabel('Epoch')\n",
        "plt.ylabel('Accuracy')\n",
        "plt.ylim([0.5, 1])\n",
        "plt.legend(loc='lower right')\n",
        "\n",
        "test_loss, test_acc = model.evaluate(test_images,\n",
        "                                     test_labels,\n",
        "                                     verbose=2)\n"
      ]
    },
    {
      "cell_type": "code",
      "execution_count": 19,
      "metadata": {
        "colab": {
          "base_uri": "https://localhost:8080/"
        },
        "id": "Cc2Uh7qqlGAi",
        "outputId": "9bfebeaf-0aff-4db9-c411-3f63bd0df06e"
      },
      "outputs": [
        {
          "output_type": "stream",
          "name": "stdout",
          "text": [
            "Test Accuracy is 0.671500027179718\n"
          ]
        }
      ],
      "source": [
        "print('Test Accuracy is',test_acc)"
      ]
    },
    {
      "cell_type": "markdown",
      "metadata": {
        "id": "Bub2EDm-mSLz"
      },
      "source": [
        "## 과제3. 직접사용해 보기. 이미지를 로드하고 cifar-10의 사이즈로 리사이즈"
      ]
    },
    {
      "cell_type": "code",
      "execution_count": 22,
      "metadata": {
        "id": "Ka8GtI6ElKA2",
        "colab": {
          "base_uri": "https://localhost:8080/",
          "height": 446
        },
        "outputId": "25bea2dc-1810-4f58-db60-d00d75a2faf9"
      },
      "outputs": [
        {
          "output_type": "stream",
          "name": "stdout",
          "text": [
            "\u001b[1m1/1\u001b[0m \u001b[32m━━━━━━━━━━━━━━━━━━━━\u001b[0m\u001b[37m\u001b[0m \u001b[1m0s\u001b[0m 29ms/step\n"
          ]
        },
        {
          "output_type": "display_data",
          "data": {
            "text/plain": [
              "<Figure size 640x480 with 1 Axes>"
            ],
            "image/png": "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\n"
          },
          "metadata": {}
        }
      ],
      "source": [
        "import numpy as np\n",
        "from tensorflow.keras.preprocessing import image\n",
        "\n",
        "# 새 이미지를 로드하고 모델 예측 수행\n",
        "def predict_new_image(image_path, model, class_names):\n",
        "    # 이미지 로드 및 전처리\n",
        "    img = image.load_img(image_path, target_size=(32, 32))  # CIFAR-10 크기로 리사이즈 빈칸채우기\n",
        "    img_array = image.img_to_array(img)  # 이미지를 배열로 변환\n",
        "    img_array = np.expand_dims(img_array, axis=0)  # 배치를 위해 차원 추가\n",
        "    img_array = img_array / 255.0  # 정규화\n",
        "\n",
        "    # 예측 수행\n",
        "    predictions = model.predict(img_array)\n",
        "    predicted_class = np.argmax(predictions)  # 가장 높은 확률의 클래스 인덱스\n",
        "    class_name = class_names[predicted_class]  # 클래스 이름\n",
        "\n",
        "    # 결과 출력\n",
        "    plt.imshow(img)\n",
        "    plt.title(f\"Predicted: {class_name}\")\n",
        "    plt.axis('off')\n",
        "    plt.show()\n",
        "\n",
        "# 사용 예시\n",
        "image_path = \"me.jpeg\"\n",
        "predict_new_image(image_path, model, class_names)\n"
      ]
    },
    {
      "cell_type": "markdown",
      "metadata": {
        "id": "CM4lzGATmSLz"
      },
      "source": [
        "## 왜 255.0으로 나누었을까요? 이미지 전처리에 대한 지식이니 조사해보세요."
      ]
    },
    {
      "cell_type": "markdown",
      "metadata": {
        "id": "YU8Y20oRmSLz"
      },
      "source": [
        "Answer: 이미지에서는 RGB 채널을 기준으로 각 픽셀당 0\\~255 범위의 값을 가진다.\n",
        "이를 255.0 으로 나누면 0\\~1사이의 값으로 정규화된다.\n",
        "\n",
        "만약 값이 너무 크면 가중치의 gradient가 함께 커져 너무 빨리 이동하거나, 발산할 위험이 있다.\n",
        "값을 0~1로 범위를 작게 하여 더욱 안정적으로 gradient가 수렴할 수 있게 해준다."
      ]
    },
    {
      "cell_type": "markdown",
      "metadata": {
        "id": "6u7SCAmUmSLz"
      },
      "source": [
        "## 과제4. CNN의 inductive bias에 대해서 조사를 해보고 생각해 봅시다.\n",
        "### CNN은 왜 이미지 처리에 좋을까요? 이미지 말고도 CNN을 잘 쓸 수 있는데는 어디일까요?"
      ]
    },
    {
      "cell_type": "markdown",
      "metadata": {
        "id": "-llGq8qBmSLz"
      },
      "source": [
        "Answer:\n",
        "\n",
        "1. 국소성(Locality)\n",
        "\n",
        "이미지는 공간 구조가 있는 데이터이다. 즉, 인접한 픽셀끼리는 관련이 깊고, 멀리 떨어진 픽셀 끼리는 덜 관련이 있다.\n",
        "\n",
        "예를 들어 고양이의 사진이 있다면 귀와 얼굴의 픽셀들은 밀접한 관계가 있지만, 그에 비해 귀와 꼬리는 관계가 거의 없다.\n",
        "\n",
        "inductive bias는 이러한 국소성을 가정하고 학습이 진행될 수 있도록 하며, 커널을 이용해 모서리, 선 등의 작은 영역의 국소적인 특징을 추출할 수 있다.\n",
        "\n",
        "2. 가중치 공유(위치 불변성)\n",
        "\n",
        "이미지 내에서의 패턴은 위치에 관계없이 존재할 수 있다.\n",
        "예를 들어 고양이의 위치는 이미지의 왼쪽 아래, 오른쪽 위 그 어떤 곳에 있어도 상관없다.\n",
        "\n",
        "CNN은 학습한 커널의 가중치를 전체 이미지에 대해서 공유한다. 그 커널이 가지는 가중치는 특정한 특징을 탐지할 수 있는데, 이미지의 어느 특정 위치만 확인하는 것이 아닌 이미지 전체를 돌아보며 확인하므로 어떠한 특징이 어디에 있더라고 같은 커널로 잡아낼 수 있다.\n",
        "\n",
        "즉 위치에 관계없이 같은 패턴은 하나의 커널을 이용해 잡아낼 수 있다는 inductive bias를 가지게 된다.\n",
        "\n",
        "\n",
        "이러한 CNN의 inductive bias의 특징은 시계열 분석에서도 이용될 수 있다.\n",
        "특히 심전도 데이터 분석에서 inductive bias의 특징은 효과적으로 작용한다.\n",
        "\n",
        "심전도 데이터에서는 P파, QRS파, T파 등 특정한 파형들이 국소 구간에서 반복적으로 나타나는 양상을 볼 수 있다.\n",
        "특정한 파형과 그러한 파형이 시간적으로 어디에든 위치할 수 있다는 유동성은 위에서 설명했던 inductive bias의 국소성과 위치 불변성을 잘 활용할 수 있는 이유이기도 하다\n",
        "\n"
      ]
    }
  ],
  "metadata": {
    "accelerator": "GPU",
    "colab": {
      "gpuType": "T4",
      "provenance": []
    },
    "kernelspec": {
      "display_name": "Python 3 (ipykernel)",
      "name": "python3",
      "language": "python"
    },
    "language_info": {
      "codemirror_mode": {
        "name": "ipython",
        "version": 3
      },
      "file_extension": ".py",
      "mimetype": "text/x-python",
      "name": "python",
      "nbconvert_exporter": "python",
      "pygments_lexer": "ipython3",
      "version": "3.11.9"
    }
  },
  "nbformat": 4,
  "nbformat_minor": 0
}
=======
 "cells": [
  {
   "cell_type": "code",
   "execution_count": 1,
   "metadata": {
    "executionInfo": {
     "elapsed": 6106,
     "status": "ok",
     "timestamp": 1715496376915,
     "user": {
      "displayName": "Ki Di",
      "userId": "11388083629378020019"
     },
     "user_tz": -540
    },
    "id": "gaXvKTIYi6r6"
   },
   "outputs": [],
   "source": [
    "# 그럼 첫번째 레슨 : 라이브러리 불러오기\n",
    "\n",
    "#필요한 딥러닝 관련 라이브러리를 불러옵니다.\n",
    "\n",
    "import tensorflow as tf\n",
    "from tensorflow.keras import datasets, layers, models\n",
    "import matplotlib.pyplot as plt"
   ]
  },
  {
   "cell_type": "code",
   "execution_count": 2,
   "metadata": {
    "colab": {
     "base_uri": "https://localhost:8080/"
    },
    "executionInfo": {
     "elapsed": 5481,
     "status": "ok",
     "timestamp": 1715496384750,
     "user": {
      "displayName": "Ki Di",
      "userId": "11388083629378020019"
     },
     "user_tz": -540
    },
    "id": "JQ4PgaVJjDaZ",
    "outputId": "ade51911-b92c-482c-9734-04f47b24fe54"
   },
   "outputs": [
    {
     "name": "stdout",
     "output_type": "stream",
     "text": [
      "Downloading data from https://www.cs.toronto.edu/~kriz/cifar-10-python.tar.gz\n",
      "\u001b[1m170498071/170498071\u001b[0m \u001b[32m━━━━━━━━━━━━━━━━━━━━\u001b[0m\u001b[37m\u001b[0m \u001b[1m39s\u001b[0m 0us/step\n"
     ]
    }
   ],
   "source": [
    "# 🗂️ Step 2: 데이터 불러오기\n",
    "\n",
    "#CIFAR-10 데이터셋을 불러오고, 학습용/테스트용으로 분리합니다.\n",
    "\n",
    "(train_images, train_labels), (test_images, test_labels) = datasets.cifar10.load_data()\n"
   ]
  },
  {
   "cell_type": "markdown",
   "metadata": {},
   "source": [
    "## 과제1. 데이터의 구조를 살펴보세요. 사이즈는?"
   ]
  },
  {
   "cell_type": "code",
   "execution_count": 5,
   "metadata": {},
   "outputs": [
    {
     "name": "stdout",
     "output_type": "stream",
     "text": [
      "(50000, 32, 32, 3) (50000, 1) (10000, 32, 32, 3) (10000, 1)\n",
      "Unique labels: [6 9 4 1 2 7 8 3 5 0]\n"
     ]
    }
   ],
   "source": [
    "# 여기에서 확인해 보세요.\n",
    "\n",
    "print(train_images.shape, train_labels.shape, test_images.shape, test_labels.shape)\n",
    "print(\"Unique labels:\", tf.unique(tf.reshape(train_labels, [-1]))[0].numpy())"
   ]
  },
  {
   "cell_type": "code",
   "execution_count": 6,
   "metadata": {
    "colab": {
     "base_uri": "https://localhost:8080/",
     "height": 672
    },
    "executionInfo": {
     "elapsed": 4322,
     "status": "ok",
     "timestamp": 1715496406434,
     "user": {
      "displayName": "Ki Di",
      "userId": "11388083629378020019"
     },
     "user_tz": -540
    },
    "id": "SvdfBtPFjLhm",
    "outputId": "2b6591a8-9efa-42fd-8acd-9edddbcd947c"
   },
   "outputs": [],
   "source": [
    "# 🏷️ Step 3: 클래스 이름 정의\n",
    "\n",
    "#CIFAR-10의 라벨은 숫자로 되어 있으므로, 사람이 이해할 수 있도록 이름을 부여합니다.\n",
    "class_names = ['airplane', 'automobile', 'bird', 'cat', 'deer',\n",
    "               'dog', 'frog', 'horse', 'ship', 'truck']"
   ]
  },
  {
   "cell_type": "markdown",
   "metadata": {},
   "source": [
    "## 과제2. 아래 코드의 빈칸을 채워 CNN 모델을 완성해보세요. \n",
    "#### layer나 패딩 혹은 drop out, batch normalization을 추가해 가며 모델의 정확도 변화를 보는 것도 좋습니다."
   ]
  },
  {
   "cell_type": "code",
   "execution_count": 7,
   "metadata": {
    "executionInfo": {
     "elapsed": 2048,
     "status": "ok",
     "timestamp": 1715496498864,
     "user": {
      "displayName": "Ki Di",
      "userId": "11388083629378020019"
     },
     "user_tz": -540
    },
    "id": "b6KfEI2ljboP"
   },
   "outputs": [
    {
     "name": "stderr",
     "output_type": "stream",
     "text": [
      "/Users/zimin205/boaz/.venv_boaz310/lib/python3.10/site-packages/keras/src/layers/convolutional/base_conv.py:113: UserWarning: Do not pass an `input_shape`/`input_dim` argument to a layer. When using Sequential models, prefer using an `Input(shape)` object as the first layer in the model instead.\n",
      "  super().__init__(activity_regularizer=activity_regularizer, **kwargs)\n"
     ]
    }
   ],
   "source": [
    "# 🧱 Step 4: CNN 모델 구성\n",
    "# Convolution → MaxPooling → Flatten → Dense 구조로 CNN을 설계합니다.\n",
    "# 아래의 빈칸 (___)을 채워 모델을 완성해보세요.\n",
    "\n",
    "model = models.Sequential()\n",
    "\n",
    "# 첫 번째 합성곱 레이어\n",
    "model.add(layers.Conv2D(32, (3, 3), activation='relu', input_shape=(32, 32, 3)))  # TODO: 커널 개수 설정\n",
    "\n",
    "# 첫 번째 풀링 레이어\n",
    "model.add(layers.MaxPooling2D((2, 2)))  # TODO: 풀링 크기 설정\n",
    "\n",
    "# 두 번째 합성곱 레이어\n",
    "model.add(layers.Conv2D(64, (3, 3), activation='relu'))  # TODO: 커널 크기 설정\n",
    "\n",
    "# 두 번째 풀링 레이어\n",
    "model.add(layers.MaxPooling2D((2, 2)))\n",
    "\n",
    "# 세 번째 합성곱 레이어\n",
    "model.add(layers.Conv2D(64, (3, 3), activation='relu'))  # TODO: 커널 개수 설정\n",
    "\n",
    "# Flatten + Fully Connected Layer\n",
    "model.add(layers.Flatten())\n",
    "model.add(layers.Dense(64, activation='relu'))\n",
    "model.add(layers.Dense(10))"
   ]
  },
  {
   "cell_type": "markdown",
   "metadata": {},
   "source": [
    "## 자신이 채운 코드를 기반으로 각 레이어별 Feature Map 크기를 계산해 보세요. \n",
    "(padding은 디폴트로 없습니다.)"
   ]
  },
  {
   "cell_type": "markdown",
   "metadata": {},
   "source": [
    "## Answer:\n",
    "Conv2D(32, (3,3), activation='relu')\n",
    "출력 크기: (32 - 3 + 1) x (32 - 3 + 1) = 30 x 30\n",
    "출력 shape: (30, 30, 32)\n",
    "\n",
    "MaxPooling2D((2,2)) → 절반 크기\n",
    "출력 shape: (15, 15, 32)\n",
    "\n",
    "Conv2D(64, (3,3), activation='relu')\n",
    "(15 - 3 + 1) x (15 - 3 + 1) = 13 x 13\n",
    "출력 shape: (13, 13, 64)\n",
    "\n",
    "MaxPooling2D((2,2)) 절반 크기\n",
    "출력 shape: (6, 6, 64)\n",
    "\n",
    "Conv2D(64, (3,3), activation='relu')\n",
    "(6 - 3 + 1) x (6 - 3 + 1) = 4 x 4\n",
    "출력 shape: (4, 4, 64)\n",
    "\n",
    "Flatten\n",
    "Flatten → 4×4×64 = 1024\n",
    "출력 shape: (1024,)\n",
    "\n",
    "Dense(64)\n",
    "출력 shape: (64,)\n",
    "\n",
    "Dense(10)\n",
    "출력 shape: (10,) ← CIFAR-10 클래스 수"
   ]
  },
  {
   "cell_type": "code",
   "execution_count": 12,
   "metadata": {
    "colab": {
     "base_uri": "https://localhost:8080/"
    },
    "executionInfo": {
     "elapsed": 87492,
     "status": "ok",
     "timestamp": 1715496826651,
     "user": {
      "displayName": "Ki Di",
      "userId": "11388083629378020019"
     },
     "user_tz": -540
    },
    "id": "e5GLqIzikILD",
    "outputId": "9eb72adf-635d-43c6-a577-f8a67a3556d0"
   },
   "outputs": [],
   "source": [
    "# ⚙️ Step 5: 모델 컴파일\n",
    "\n",
    "#모델을 학습할 수 있도록 컴파일합니다. 손실 함수, 최적화 방법, 평가지표를 설정합니다.\n",
    "\n",
    "model.compile(optimizer='adam',\n",
    "              loss=tf.keras.losses.SparseCategoricalCrossentropy(from_logits=True),\n",
    "              metrics=['accuracy'])"
   ]
  },
  {
   "cell_type": "code",
   "execution_count": 13,
   "metadata": {},
   "outputs": [
    {
     "name": "stdout",
     "output_type": "stream",
     "text": [
      "Epoch 1/10\n",
      "\u001b[1m1563/1563\u001b[0m \u001b[32m━━━━━━━━━━━━━━━━━━━━\u001b[0m\u001b[37m\u001b[0m \u001b[1m11s\u001b[0m 7ms/step - accuracy: 0.7674 - loss: 0.6760 - val_accuracy: 0.6606 - val_loss: 1.0964\n",
      "Epoch 2/10\n",
      "\u001b[1m1563/1563\u001b[0m \u001b[32m━━━━━━━━━━━━━━━━━━━━\u001b[0m\u001b[37m\u001b[0m \u001b[1m11s\u001b[0m 7ms/step - accuracy: 0.7788 - loss: 0.6424 - val_accuracy: 0.6560 - val_loss: 1.1070\n",
      "Epoch 3/10\n",
      "\u001b[1m1563/1563\u001b[0m \u001b[32m━━━━━━━━━━━━━━━━━━━━\u001b[0m\u001b[37m\u001b[0m \u001b[1m11s\u001b[0m 7ms/step - accuracy: 0.7853 - loss: 0.6208 - val_accuracy: 0.6675 - val_loss: 1.1143\n",
      "Epoch 4/10\n",
      "\u001b[1m1563/1563\u001b[0m \u001b[32m━━━━━━━━━━━━━━━━━━━━\u001b[0m\u001b[37m\u001b[0m \u001b[1m11s\u001b[0m 7ms/step - accuracy: 0.7919 - loss: 0.5967 - val_accuracy: 0.6668 - val_loss: 1.1046\n",
      "Epoch 5/10\n",
      "\u001b[1m1563/1563\u001b[0m \u001b[32m━━━━━━━━━━━━━━━━━━━━\u001b[0m\u001b[37m\u001b[0m \u001b[1m11s\u001b[0m 7ms/step - accuracy: 0.8024 - loss: 0.5739 - val_accuracy: 0.6472 - val_loss: 1.1724\n",
      "Epoch 6/10\n",
      "\u001b[1m1563/1563\u001b[0m \u001b[32m━━━━━━━━━━━━━━━━━━━━\u001b[0m\u001b[37m\u001b[0m \u001b[1m11s\u001b[0m 7ms/step - accuracy: 0.8117 - loss: 0.5430 - val_accuracy: 0.6345 - val_loss: 1.2414\n",
      "Epoch 7/10\n",
      "\u001b[1m1563/1563\u001b[0m \u001b[32m━━━━━━━━━━━━━━━━━━━━\u001b[0m\u001b[37m\u001b[0m \u001b[1m11s\u001b[0m 7ms/step - accuracy: 0.8158 - loss: 0.5342 - val_accuracy: 0.6673 - val_loss: 1.1642\n",
      "Epoch 8/10\n",
      "\u001b[1m1563/1563\u001b[0m \u001b[32m━━━━━━━━━━━━━━━━━━━━\u001b[0m\u001b[37m\u001b[0m \u001b[1m11s\u001b[0m 7ms/step - accuracy: 0.8229 - loss: 0.5124 - val_accuracy: 0.6502 - val_loss: 1.2183\n",
      "Epoch 9/10\n",
      "\u001b[1m1563/1563\u001b[0m \u001b[32m━━━━━━━━━━━━━━━━━━━━\u001b[0m\u001b[37m\u001b[0m \u001b[1m11s\u001b[0m 7ms/step - accuracy: 0.8232 - loss: 0.5069 - val_accuracy: 0.6549 - val_loss: 1.2643\n",
      "Epoch 10/10\n",
      "\u001b[1m1563/1563\u001b[0m \u001b[32m━━━━━━━━━━━━━━━━━━━━\u001b[0m\u001b[37m\u001b[0m \u001b[1m11s\u001b[0m 7ms/step - accuracy: 0.8329 - loss: 0.4825 - val_accuracy: 0.6490 - val_loss: 1.3091\n",
      "313/313 - 1s - 2ms/step - accuracy: 0.6490 - loss: 1.3091\n"
     ]
    },
    {
     "data": {
      "image/png": "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",
      "text/plain": [
       "<Figure size 640x480 with 1 Axes>"
      ]
     },
     "metadata": {},
     "output_type": "display_data"
    }
   ],
   "source": [
    "# 🔥 Step 6: 모델 학습 및 성능 평가\n",
    "\n",
    "history = model.fit(train_images, train_labels, epochs=10,\n",
    "                    validation_data=(test_images, test_labels))\n",
    "#모델 성능 평가\n",
    "plt.plot(history.history['accuracy'],label='accuracy')\n",
    "plt.plot(history.history['val_accuracy'],label = 'val_accuracy')\n",
    "plt.xlabel('Epoch')\n",
    "plt.ylabel('Accuracy')\n",
    "plt.ylim([0.5, 1])\n",
    "plt.legend(loc='lower right')\n",
    "\n",
    "test_loss, test_acc = model.evaluate(test_images,\n",
    "                                     test_labels,\n",
    "                                     verbose=2)\n"
   ]
  },
  {
   "cell_type": "code",
   "execution_count": 16,
   "metadata": {
    "colab": {
     "base_uri": "https://localhost:8080/"
    },
    "executionInfo": {
     "elapsed": 309,
     "status": "ok",
     "timestamp": 1715496854691,
     "user": {
      "displayName": "Ki Di",
      "userId": "11388083629378020019"
     },
     "user_tz": -540
    },
    "id": "Cc2Uh7qqlGAi",
    "outputId": "9169ed3f-ecbf-4598-83fc-ea11f56d8775"
   },
   "outputs": [
    {
     "name": "stdout",
     "output_type": "stream",
     "text": [
      "Test Accuracy is 0.6489999890327454\n"
     ]
    }
   ],
   "source": [
    "print('Test Accuracy is',test_acc)"
   ]
  },
  {
   "cell_type": "code",
   "execution_count": 17,
   "metadata": {},
   "outputs": [
    {
     "name": "stderr",
     "output_type": "stream",
     "text": [
      "/Users/zimin205/boaz/.venv_boaz310/lib/python3.10/site-packages/keras/src/layers/convolutional/base_conv.py:113: UserWarning: Do not pass an `input_shape`/`input_dim` argument to a layer. When using Sequential models, prefer using an `Input(shape)` object as the first layer in the model instead.\n",
      "  super().__init__(activity_regularizer=activity_regularizer, **kwargs)\n"
     ]
    }
   ],
   "source": [
    "model = models.Sequential()\n",
    "\n",
    "# 1. 첫 번째 합성곱 + 배치 정규화 + 풀링\n",
    "model.add(layers.Conv2D(32, (3, 3), padding='same', activation='relu', input_shape=(32, 32, 3)))\n",
    "model.add(layers.BatchNormalization())\n",
    "model.add(layers.MaxPooling2D((2, 2)))\n",
    "\n",
    "# 2. 두 번째 합성곱 + 배치 정규화 + 드롭아웃 + 풀링\n",
    "model.add(layers.Conv2D(64, (3, 3), padding='same', activation='relu'))\n",
    "model.add(layers.BatchNormalization())\n",
    "model.add(layers.Dropout(0.3))\n",
    "model.add(layers.MaxPooling2D((2, 2)))\n",
    "\n",
    "# 3. 세 번째 합성곱 + 배치 정규화\n",
    "model.add(layers.Conv2D(64, (3, 3), padding='same', activation='relu'))\n",
    "model.add(layers.BatchNormalization())\n",
    "\n",
    "# 4. Flatten + Fully Connected Layer + 드롭아웃\n",
    "model.add(layers.Flatten())\n",
    "model.add(layers.Dense(64, activation='relu'))\n",
    "model.add(layers.Dropout(0.5))\n",
    "model.add(layers.Dense(10))  # CIFAR-10 → 클래스 10개\n"
   ]
  },
  {
   "cell_type": "code",
   "execution_count": 19,
   "metadata": {},
   "outputs": [],
   "source": [
    "# ⚙️ Step 5: 모델 컴파일\n",
    "\n",
    "#모델을 학습할 수 있도록 컴파일합니다. 손실 함수, 최적화 방법, 평가지표를 설정합니다.\n",
    "\n",
    "model.compile(optimizer='adam',\n",
    "              loss=tf.keras.losses.SparseCategoricalCrossentropy(from_logits=True),\n",
    "              metrics=['accuracy'])"
   ]
  },
  {
   "cell_type": "code",
   "execution_count": 20,
   "metadata": {},
   "outputs": [
    {
     "name": "stdout",
     "output_type": "stream",
     "text": [
      "Epoch 1/10\n",
      "\u001b[1m1563/1563\u001b[0m \u001b[32m━━━━━━━━━━━━━━━━━━━━\u001b[0m\u001b[37m\u001b[0m \u001b[1m30s\u001b[0m 18ms/step - accuracy: 0.3012 - loss: 1.9612 - val_accuracy: 0.5124 - val_loss: 1.6180\n",
      "Epoch 2/10\n",
      "\u001b[1m1563/1563\u001b[0m \u001b[32m━━━━━━━━━━━━━━━━━━━━\u001b[0m\u001b[37m\u001b[0m \u001b[1m27s\u001b[0m 17ms/step - accuracy: 0.5158 - loss: 1.3625 - val_accuracy: 0.5678 - val_loss: 1.3390\n",
      "Epoch 3/10\n",
      "\u001b[1m1563/1563\u001b[0m \u001b[32m━━━━━━━━━━━━━━━━━━━━\u001b[0m\u001b[37m\u001b[0m \u001b[1m27s\u001b[0m 17ms/step - accuracy: 0.5967 - loss: 1.1384 - val_accuracy: 0.5727 - val_loss: 1.4627\n",
      "Epoch 4/10\n",
      "\u001b[1m1563/1563\u001b[0m \u001b[32m━━━━━━━━━━━━━━━━━━━━\u001b[0m\u001b[37m\u001b[0m \u001b[1m28s\u001b[0m 18ms/step - accuracy: 0.6423 - loss: 1.0168 - val_accuracy: 0.6615 - val_loss: 1.1115\n",
      "Epoch 5/10\n",
      "\u001b[1m1563/1563\u001b[0m \u001b[32m━━━━━━━━━━━━━━━━━━━━\u001b[0m\u001b[37m\u001b[0m \u001b[1m26s\u001b[0m 17ms/step - accuracy: 0.6808 - loss: 0.9174 - val_accuracy: 0.6853 - val_loss: 1.0020\n",
      "Epoch 6/10\n",
      "\u001b[1m1563/1563\u001b[0m \u001b[32m━━━━━━━━━━━━━━━━━━━━\u001b[0m\u001b[37m\u001b[0m \u001b[1m27s\u001b[0m 17ms/step - accuracy: 0.7014 - loss: 0.8540 - val_accuracy: 0.6049 - val_loss: 1.5621\n",
      "Epoch 7/10\n",
      "\u001b[1m1563/1563\u001b[0m \u001b[32m━━━━━━━━━━━━━━━━━━━━\u001b[0m\u001b[37m\u001b[0m \u001b[1m27s\u001b[0m 17ms/step - accuracy: 0.7244 - loss: 0.7957 - val_accuracy: 0.6647 - val_loss: 1.1562\n",
      "Epoch 8/10\n",
      "\u001b[1m1563/1563\u001b[0m \u001b[32m━━━━━━━━━━━━━━━━━━━━\u001b[0m\u001b[37m\u001b[0m \u001b[1m27s\u001b[0m 17ms/step - accuracy: 0.7405 - loss: 0.7454 - val_accuracy: 0.7010 - val_loss: 0.9231\n",
      "Epoch 9/10\n",
      "\u001b[1m1563/1563\u001b[0m \u001b[32m━━━━━━━━━━━━━━━━━━━━\u001b[0m\u001b[37m\u001b[0m \u001b[1m27s\u001b[0m 17ms/step - accuracy: 0.7479 - loss: 0.7167 - val_accuracy: 0.7093 - val_loss: 1.0132\n",
      "Epoch 10/10\n",
      "\u001b[1m1563/1563\u001b[0m \u001b[32m━━━━━━━━━━━━━━━━━━━━\u001b[0m\u001b[37m\u001b[0m \u001b[1m27s\u001b[0m 17ms/step - accuracy: 0.7658 - loss: 0.6731 - val_accuracy: 0.7004 - val_loss: 1.0591\n",
      "313/313 - 1s - 4ms/step - accuracy: 0.7004 - loss: 1.0591\n"
     ]
    },
    {
     "data": {
      "image/png": "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",
      "text/plain": [
       "<Figure size 640x480 with 1 Axes>"
      ]
     },
     "metadata": {},
     "output_type": "display_data"
    }
   ],
   "source": [
    "# 🔥 Step 6: 모델 학습 및 성능 평가\n",
    "\n",
    "history = model.fit(train_images, train_labels, epochs=10,\n",
    "                    validation_data=(test_images, test_labels))\n",
    "#모델 성능 평가\n",
    "plt.plot(history.history['accuracy'],label='accuracy')\n",
    "plt.plot(history.history['val_accuracy'],label = 'val_accuracy')\n",
    "plt.xlabel('Epoch')\n",
    "plt.ylabel('Accuracy')\n",
    "plt.ylim([0.5, 1])\n",
    "plt.legend(loc='lower right')\n",
    "\n",
    "test_loss, test_acc = model.evaluate(test_images,\n",
    "                                     test_labels,\n",
    "                                     verbose=2)\n"
   ]
  },
  {
   "cell_type": "code",
   "execution_count": 21,
   "metadata": {},
   "outputs": [
    {
     "name": "stdout",
     "output_type": "stream",
     "text": [
      "Test Accuracy is 0.7003999948501587\n"
     ]
    }
   ],
   "source": [
    "print('Test Accuracy is',test_acc)"
   ]
  },
  {
   "cell_type": "markdown",
   "metadata": {},
   "source": [
    "## 과제3. 직접사용해 보기. 이미지를 로드하고 cifar-10의 사이즈로 리사이즈"
   ]
  },
  {
   "cell_type": "code",
   "execution_count": 25,
   "metadata": {
    "id": "Ka8GtI6ElKA2"
   },
   "outputs": [
    {
     "name": "stdout",
     "output_type": "stream",
     "text": [
      "\u001b[1m1/1\u001b[0m \u001b[32m━━━━━━━━━━━━━━━━━━━━\u001b[0m\u001b[37m\u001b[0m \u001b[1m0s\u001b[0m 14ms/step\n"
     ]
    },
    {
     "data": {
      "image/png": "iVBORw0KGgoAAAANSUhEUgAAAYUAAAGbCAYAAAAr/4yjAAAAOnRFWHRTb2Z0d2FyZQBNYXRwbG90bGliIHZlcnNpb24zLjEwLjMsIGh0dHBzOi8vbWF0cGxvdGxpYi5vcmcvZiW1igAAAAlwSFlzAAAPYQAAD2EBqD+naQAAINxJREFUeJzt3QmQnXW55/H/e5Y+S2/pPUln6852QwBBAugYBBTkAuJVQQaLGhUKyrEAkSmwLO4MiDha945aWmjJeHVEhXthkCgMg6DcCXNBGOBKWBKSkISkSaeTXk+vp/us79T/pfoZwpbn0Q4Y5/upwmDy5Om3zzl9fuc9y48gDMPQAQDgnIu92wcAAPjzQSgAAAShAAAQhAIAQBAKAABBKAAABKEAABCEAgBAEAoAAEEo4IixbNky97nPfU7+/yOPPOKCIIh+/XM9RuBIQyhA5bbbbovugGf/SafTbtWqVe7KK690/f397kjywAMPuK9+9avuL1k+n4++xz+nwMSRIfFuHwCOLF/72tdcV1eXm5mZcY899pj74Q9/GN3Jbt682WWz2Xf0WD74wQ+66elpV1NTY/p7/nh/8IMf/EUHgw+Fm266Kfr300477d0+HBxBCAWYnH322W7dunXRv1922WWupaXFfec733H33nuv+/SnP/2mf2dqasrV1tbO+bHEYrHojAXA3OHpI/xJPvShD0W/7t69O/rVP59eV1fndu3a5c455xxXX1/vLr744ujPqtWq++53v+vWrl0b3Zl3dHS4z3/+8y6Xyx200xf3fv3rX3eLFi2Kzj5OP/10t2XLljd87bd6TeHJJ5+MvnZTU1MURscee6z73ve+J8fnzxK81z4dNmuuj9Hzl4X/R2N0dNRdc8010WsTqVQq2v+Zz3zGDQ0NRX9eLBbdDTfc4E444QTX2NgYfX+nnHKK27hxo+zYs2ePa2tri/7dny3Mfo9/yWdGmDucKeBPMntn588YZpXLZXfWWWe59evXu29961vytJK/c/WvTVxyySXui1/8YhQk3//+992mTZvc73//e5dMJqM5f6fn73D9Hbv/55lnnnEf+chHojvEQ/nd737nPvrRj7oFCxa4q6++2s2fP99t3brV3X///dH/98fQ19cXzf3iF794w98/HMf44Q9/WO6s387k5GR0B++P99JLL3Xvfe97ozC47777XG9vr2ttbXXj4+Puxz/+cXRWdvnll7uJiQn3k5/8JLq8n3rqKXfcccdFgeCf1vvCF77gPvGJT7hPfvKT0X4fjsAh+f+eAnAoP/3pT/1/dyN8+OGHw8HBwXDv3r3hnXfeGba0tISZTCbs7e2N5j772c9Gc1/5ylcO+vuPPvpo9Pt33HHHQb//4IMPHvT7AwMDYU1NTXjuueeG1WpV5q6//vpozu+ftXHjxuj3/K9euVwOu7q6wqVLl4a5XO6gr/PaXVdccUX0917vcByj54/H/3MoN9xwQ/T3N2zY8IY/m/06/nssFAoH/Zn/Xjs6OsJLL71Ufs9fR37XjTfeeMivC7wWTx/B5IwzzogeiS5evNhddNFF0VNFv/rVr1xnZ+dBc/5R6mvdfffd0dMdZ555ZvTod/Yf/zSI3zH79MfDDz8cPdq+6qqrDnpa50tf+tIhj80/mveP7P3svHnzDvqz1+56K4frGP0ZwqHOErx77rnHvec974ke3b/e7NeJx+Pywrp/qmtkZCQ6M/Ov8/izFeBPxdNHMPHPx/u3oiYSiej59tWrV0cv+L6W/zP/XPhr7dixw42Njbn29vY33TswMBD92tPTE/26cuXKg/7cB5F/jUDzVNbRRx/9R3xn78wxHur4zz///EPO/exnP3Pf/va33bZt21ypVJLf9+8KA/5UhAJMTjrpJHn30VvxL5C+Pij8o1p/Z3vHHXe86d+ZfWH03XQkHOPtt98evVj+8Y9/3F133XXR8fqzh29+85vqF7OBt0Mo4B2xfPny6GmXD3zgAy6Tybzl3NKlS+VRe3d3t/z+4ODgG94B9GZfw/OfmfBPc72Vt3oq6Z04xkMdvz/2t/PLX/4y+pobNmw46Pu48cYbzU+XAW+G1xTwjrjwwgtdpVJxN9988xv+zD8n7t+K6fk7c/8On1tuuSV62+cs/zbRQ/Hv1vFPofjZ2X2zXrtr9jMTr585XMeofUuqf+roueeei16jeb3Zr+PPCl7//fi34D7xxBMHzc++4+v13yNwKJwp4B1x6qmnRm/39E9zPPvss9HbN/0dq3+07V/g9Z8juOCCC6KnaK699tpozr+11L/d07+A/Jvf/CZ6S+bb8U9Z+bdinnfeedFbM/3bSv1bU/1z7/4zBA899FA051849vxbTv1bOf0drX/R/HAdo/Ytqf7pIH8m8KlPfSp6S6o/Tv9Csn9L6q233hq9CO2/nj9L8C9Gn3vuudEL6/7PjjrqqOgtrbP8mY7/vbvuuit6Dai5uTl6reWPfb0F/x856L1IwCHekvr000+/7Zx/O2Ztbe1b/vmPfvSj8IQTTojexlpfXx8ec8wx4Ze//OWwr69PZiqVSnjTTTeFCxYsiOZOO+20cPPmzdHbOt/uLamzHnvssfDMM8+M9vtjOfbYY8NbbrlF/ty/rfOqq64K29rawiAI3vD21Lk8RstbUr3h4eHwyiuvDDs7O6O3vS5atCjaNzQ0JG9N/cY3vhHtS6VS4fHHHx/ef//90czrv8bjjz8efR9+D29PhVbg/+fdDiYAwJ8HXlMAAAhCAQAgCAUAgCAUAACCUAAACEIBAGD/8NrPH7zbWRSL/6+o61AmBw6YdienX/0Pjmj8/B/vM+2+6Py/Uc+2tNnKz2a7+DWGBidMu59+9nnT/PTYtHo2Fquadg+N6aseRif0x+ENHxhWz55wzKu1F1onrXv1Q21a7Z36LqT6hjrTbl8qqJWMvfopZ/X821R4vPE4bP+p08JrCvoOqWJa7SpxW3VHkNTPx+Ip0+7Q8CMRWi4TfxlWy+rZeMz2+eO/OevCQ85wpgAAEIQCAEAQCgAAQSgAAAShAAAQhAIAQBAKAABBKAAABKEAABCEAgBAEAoAAKEuzgjKBWexpFnf87N32NYNUor+s7o62UTatDtu6FeJBbYulrHcmHr28cefNO1Op23dLTGnvwwbam2X4eYto+rZxmZbJ9DChQvVs7nxKdPup5/dbJr/UMM69WzK0HvlJbL6x2uh7WboKoa/YGvWcS5u+Nm0/Bx7NUlbD1PZ0Atk6SXzwoq+/Gja0APnxWL66z6emPvH9ZwpAAAEoQAAEIQCAEAQCgAAQSgAAAShAAAQhAIAQBAKAABBKAAABKEAABDqz4EPP/eos+haf7J69sR1a027H9/4mHq2krJ9UL+q//S6iyVs/QJD/UPq2Uza9rH74vSMab5U1s+nsg2m3ZMl/YVYXy6bdscNdQT7+/V1G96q1StM88ViRT1bKNhqYpJpfaVDULHdDhOh/rir1bg7XOJJ489mzPYzEYT6Go3A+Pg4iB++GpKUoc4jdMblCpwpAAAEoQAAEIQCAEAQCgAAQSgAAAShAAAQhAIAQBAKAABBKAAABKEAABCEAgBAqMtHOru6nMXYvl3q2fYFC027Fy9tUc8mK/qeF69SKalntz+/x7R7884X1bNjI+Om3QvbOkzzNTUp9eyAobPJSwT6XqVlnYtMu/cNTKpnK4GtV2nbTv1t1pvfUq+eTdWmTbvTBf1lGE9lTLurZf3PRGi8DKuGh5lBYOvticVsXUmlqv5nOYwbSs+cc8lA30+UTtuu+8DpO5voPgIAHFaEAgBAEAoAAEEoAAAEoQAAEIQCAEAQCgAAQSgAAAShAAAQhAIAQKg/N37ciSc7i+H+V9SzI3u3mna3deprMSqh7WPgxar+I+Yv9fSYdo+M5NWz7c1tpt0N9XWm+YGRUfXsSE5/3F4lrq8XeGlfzrS7MaOvdKiWbdUF+3sHTPNDy8bUs42NTabd00l9pUM8HjftLhf1u2MJ2+5YaNltq38IA/3Pphc31GIEzvZ9hoaH08lk0rQ7kdQfS1ix3cY1OFMAAAhCAQAgCAUAgCAUAACCUAAACEIBACAIBQCAIBQAAIJQAAAIQgEAIAgFAIBQl4PUNjQ6i3hmtXq2d8v/Me1urqnRH0fc1n2Uz+t7fpLG3emM/ribW2yX9/jYuGl+dFzfOTQ+WTDt/qvuFerZgf4R0+6koXRmdfci0+4LTl9vmv8vd25Qz7740jbT7k988hz1bNLQlePFLJ1Axu6jZFq/OxFUTLurge1YEvHwsPVHxWL6+ZqahG235TI3fI/qrz/nGwEARyxCAQAgCAUAgCAUAACCUAAACEIBACAIBQCAIBQAAIJQAAAIQgEAINSfv06mM84iqNHPBwnbblc1zJZsH1+vFMrq2akpW7VEYKgXiMf0lRheIbDlu+HbdKWy5QJ3rrl5vnp2atR2GR577Cr17KqFi027W1tqTfPXX3qhevbn9/+LafeYobYkmUibdlsqHWIx2+0qsNQ/GO9TLPUc1roIS22Fl0jqK26SYdJZWCs35hpnCgAAQSgAAAShAAAQhAIAQBAKAABBKAAABKEAABCEAgBAEAoAAEEoAAAEoQAAEOoykSBp6+JxFf1o05JlptXhxKB+NjCU/DjnZqZL6tntL/eZdnct7lbPNjY0mHYnMrZ+lb69A+rZ8WlbP9Ez/7pJPXvuGR807e5sb1HP7ul5xbTblWyXeZDWz5eKtv6ordv2qGdPOjFr2l0oGDqEwgnT7ngqpZ4tFoum3bVJ2208NPQ2WfuGEvHkYek8i44lCNWzYXXuH9dzpgAAEIQCAEAQCgAAQSgAAAShAAAQhAIAQBAKAABBKAAABKEAABCEAgBAqD9/HVb0H732glD/sf5kaMum/tEp9WzF0rfhnBub0Fc6BGHatHtBm76ioVC1Xd4v7egxzc9MGi7Dkr76wzv7r8807LZVHezYuVk9W8rbrvv2VltdxJJl7erZRmMNyc7d+gqVoYF+0+7zztFfP7H6etPuoqESJZnUV2J4lUzGNJ8w1FzEYoFptwv0tRhJYz1H3Ol3J2wNGiqcKQAABKEAABCEAgBAEAoAAEEoAAAEoQAAEIQCAEAQCgAAQSgAAAShAAAQhAIAQKibM3KDtm6dTLZVPVucypl279t7QD1brhRMu6fz+p6fE9cdZdq9actW9eyC5kbT7vqsraNm6ftOVs8++NuHTLsnx4bVsylDz4s3Nam/Pl/eZbvNhlVb/82y7lXq2Y+d99em3X/33VvVsxNjtuPeuv0V9eyK5UtMu6tJ/bFksrZOrVLR1pOVytaqZ+PGx8cJQ+lQGBp742L6+WrZzTnOFAAAglAAAAhCAQAgCAUAgCAUAACCUAAACEIBACAIBQCAIBQAAIJQAAAIQgEAINQFHsWJMWdTVU+Ojo6bNv/LY0+qZxMVWy9MqZhXz8bT+v4Tr22+vg+qf2DEtPuk5StN8337+9Wz5cD22CFTm1bP9uzZb9rd17NXPRuP23qvChVbR0050F//ibitpGbRosXq2e27XjLtfuKZF9WzDz+y0bT73553nno2scb2s7kgmzHNlwv6bqV4KmXaHbqKerYa2vq9pssz6tlYWX8c6p1zvhEAcMQiFAAAglAAAAhCAQAgCAUAgCAUAACCUAAACEIBACAIBQCAIBQAAEL9Of2ahhZnUZqeUs+OjulnvX/4xT+rZ9+zdoVpd2dM/3H3YrFo2l2c0s93dCww7d758i7T/MjQkHq2OV1v2l0u6R9rxG1NBy7I6q+fk99/mml3/+6XTfPNdY3q2a6FTbZj+a+T6tlkQl8r4pVn9PUfNYmsafed99yvnj3r7FNMu9eG+uocb9lyQw1NwlZFka1vUM/OlPV1G15+Sl8pFJ/WV2JocaYAABCEAgBAEAoAAEEoAAAEoQAAEIQCAEAQCgAAQSgAAAShAAAQhAIAQBAKAAChLgfJNtm6ePqG/6Ce3fjoI6bdNXF9B0o8rDHtrp2n73qZKdmKe874yPHq2f/54EbT7s99+mOm+d8//qx69kBfn2l3fUZ/mefSSdPudav0XVZ7dvWadpcLti6rcqifnRgcN+0OpvXdR01N+j6o6FhG9btLpbJpd6Giv1Ce2rTNtPuFLS+Z5q+45nL1bLFi+z6LFf19ULE4bdqd69f/vJUmJ0y7naIOjDMFAIAgFAAAglAAAAhCAQAgCAUAgCAUAACCUAAACEIBACAIBQCAIBQAAPaai3I17ix+e7++uuLX//ioaffV112hnm1OZky7//lR/bEsWdZl2v3iizvVsylbg4a7e8ODpvlEUl8vEYYV0+4DuZx6tlAomHbvn9JXNNS2LjbtLubVPw6RScPFkjY+/srUNqpnizNDpt0Tk/rahfltzabduXH99bl/YMC0u3Feg2m+r2everam1nYZJtL6+dKUreZiPKe/XMplWz2HBmcKAABBKAAABKEAABCEAgBAEAoAAEEoAAAEoQAAEIQCAEAQCgAAQSgAAAShAAAQ6rKXf3/xZ5zFvp4D6tn/8J+uNO3uXqrvHHrqmU2m3evf93717K7du0y7lyxcpp4NgxnT7qTLmub37H1FPdu9oNW0+8DIhHq2GtgelySS+n6i6RlbL8z693/ANL+kc5F6Nt1SZ9qdzOovl95e223FVfTzB0ZsnUB1Wf33WY2lTbvHDbcr7/b/dp969vTzTjbtTsVr1LNThq4pL18oqmeDhK2vS4MzBQCAIBQAAIJQAAAIQgEAIAgFAIAgFAAAglAAAAhCAQAgCAUAgCAUAABC/RnpyelJZ3HxZy9QzzY3N5t212T0H48/dm23afdzf3hZPVuN2T5i3tTRop4tOltFg6vY5pd16es8gqJt9yuDT6pnh/b3m3YvNVRLdHYtNu3e8uI20/za41erZ1fEbFUhg3t61bN5N27a3d6gvx2+MmC7flrn6Xe3tdt+7ndt1/9sesNTOfXsr//7g6bdK5YvUc9Ol201JLGYvrKmsb7JtFv19ed8IwDgiEUoAAAEoQAAEIQCAEAQCgAAQSgAAAShAAAQhAIAQBAKAABBKAAABKEAABDq8p7rb/xbZ7H1uRfUs9VqaNrtKhX16JYt+02rg2SNejYWJk27d+96RT27YJGtKycZxE3ze3sH9bM9+uP2Gmr1fSzJ+VXT7jWrVqpnb7vrVtPuSy6/xjRfY7jMA2NP1oGhEfVsm/G2UpjRX+ZHLT/atHssp+9Kytc1mHaXjPcTDala9ezwkO1+4uGN+n6vmqztZzOTyahnu7tXuLnGmQIAQBAKAABBKAAABKEAABCEAgBAEAoAAEEoAAAEoQAAEIQCAEAQCgAAQSgAAIS6kKWxpd22OKHvEHLG3p5KRd/dMn/JQtPunp371LPJVMq0u6trqXo2N6LvvvE2bd9hmj/m6OPUs+MjQ6bda5Z3qmdncrbbVTkWqGdPPeVc0+60rYbJda3qVs+2ty22LU/ob1vlGX0XmNfS3KGebUjZ+r1qWlvUs9OTE6bdlWLJdiyGQy8525UfGLqsCvmyaXddjb7j6UDfATfXOFMAAAhCAQAgCAUAgCAUAACCUAAACEIBACAIBQCAIBQAAIJQAAAIQgEAINSf1Z4ct30kvRDqP6odi9s+Su8S+vlVy5eYVk/lptSzu3fvNu3ufUX/kfR8yVYtEY/r6x+8p3ftVc+ecfwa0+7EpP4y3DvUZ9q97uR/o55taWky7W6us9WWpAv6+oJ83vbzU1+bVc9WSkXT7qGc/nZYztguw4mZMfXsgnZbBU13d61pPpfXV8WUK/r7q0iorxYJjBUao/m8enZxfb2ba5wpAAAEoQAAEIQCAEAQCgAAQSgAAAShAAAQhAIAQBAKAABBKAAABKEAABCEAgDA3n2Un550Fpl4Rj0bJOKm3emsfnc2rZ/1ckOD6tmOjlbT7lRC35fS2Nxp2n38GtuxbD9QUM9OONv1s7JNfbNy+S0zpt31Sf3uatrWqbV23TrTfE1To3r2if/1kGl3vqi/XBKB/nblZRL6y7BQnTbt7t2n7+zKZOpMuytF/W3Wa2zW9zYlFteYdm9/cZd6NpmwPfYulfTX59jwgJtrnCkAAAShAAAQhAIAQBAKAABBKAAABKEAABCEAgBAEAoAAEEoAAAEoQAAEOrPu/cP6D++7sWS+rxJGGa9ZFJfX5CM2z6+/r6T9VUHj//rH0y7q4WSerZ72UrT7gMHek3zheE+9ezufbYqinM/dZp++P0nm3Y3NdeqZ1c0LzTt7li0xDS/Z8sm9ezV1/5H0+5Mjb5aJJO0VbnEDTUXxaKtQuO09frr8/mtW0y7F7foayu8WCxQzyartvug2rqUenZ8Im/a3ZjV37/V1NkuEw3OFAAAglAAAAhCAQAgCAUAgCAUAACCUAAACEIBACAIBQCAIBQAAIJQAAAIQgEAINQlKPFC0VmU4vrekWwqbdqdMHSaVA09L16ysV6/u2K7TNoX6rt1RgbGTLtj6axpvqdX35XU1tJg2h1P6o9l6ZJO0+6Jgr5zpnP1KtPuRMJ2O9y86QX17HTe1iE0Nq7vGqs39t80Gvqjsi36Wa9nQN+pFTh9v5OXbl9gmh8fGlTPlspV0+6FCxapZ6cmd5h2Z2r190Hl2Nw/rudMAQAgCAUAgCAUAACCUAAACEIBACAIBQCAIBQAAIJQAAAIQgEAIAgFAIBQd0DUNTc7i/LkpHo2ntRXF0SCpHrU+inwhlp9pcPKVatNu3MjE+rZp5/436bdg8P6y9ubb6iXaGuw1VwM50vq2SWdtuqCZqevOAmrthqFBzbcbpq/6m//Xj1bdqFpdxjo61ma2xpNuxsM12dP337T7jDUXz/1Cdv1E3Ml23yo3988z1bnMTmRU8+mUhnT7onCtHp2XsJ436nAmQIAQBAKAABBKAAABKEAABCEAgBAEAoAAEEoAAAEoQAAEIQCAEAQCgAAQSgAAIS6YCWe0nexRMb1HSguZutACeP67iOrsKrvV/n1PQ+Ydl/0785Xz9Z3LDTtnnaDpvmZalk922nsJ5oI9NdnaWzUtDtw+q6Xf3r4LtPuf7jtDtN8yekvQ1cxrXZBoO9Kyo1MmXYPjvWqZxMF02q3ZNka9ezo6Ihp97bN20zzLS2t6tls2tZ9lB8Z1+/Opk27g1hVPVuq6Ge1OFMAAAhCAQAgCAUAgCAUAACCUAAACEIBACAIBQCAIBQAAIJQAAAIQgEAINTdFS1Nbc5ieHj0sH1UOxbo52Oxw1eJ0VhXb5rfs32Pera+ts60u26Z7aP0TQ36Y69vbTftfmjDb9WzKy/5mGn3AxufVs/e+k8bTLv3Hpg0zQdlw+0wZbsdlmb0/RL5oq2LoqWhRT2bbKgx7X5h1071bDq0PSbNJmxVOwOGGo22zvm2Y8l2qGdLxQnT7rihxicWN/anaHbO+UYAwBGLUAAACEIBACAIBQCAIBQAAIJQAAAIQgEAIAgFAIAgFAAAglAAAAhCAQAg1GUiQdyWH3FD51AYhKbdoaH7qGqrVXKxjL7rJaixdbHcc+//UM/e/J9vNu0enbb1q2x5/kX17LbtO0y7lx11lHr2ur/7sWn31u1b1LP56aJpdzZtu40vXtatnt0/PGzaPTit7zNqyGZMu53hZ3lsOGdavaJ5nnq2b1Tfj+aVgsA0nw70l8vI0IBpdyWfV8+WSrb7t8Y2fS/ZcL++30mLMwUAgCAUAACCUAAACEIBACAIBQCAIBQAAIJQAAAIQgEAIAgFAIAgFAAAglAAAAh1eU/VWCJUCfXzMXM26TuHrMcdGPpV1qzsMu3etXO3evayy6417T7xfWtN86tXrVLPvvDc86bdja1D6tlde/SXidfS0KSeHRs7YNrtDLdZb2hM3zeViMVNuxfMX6SezY3aepW6WjrVs4XcmGn3TKD/2UwH+p4xL5G2XYaNTVn1bFvrfNPuqaF+9Wwiazvu1toG9Wz7mgVurnGmAAAQhAIAQBAKAABBKAAABKEAABCEAgBAEAoAAEEoAAAEoQAAEIQCAEDoP5Me2vKjXDbUXOiPIlKqVNSzNQnbR8zDiv64Fy5Zatp99DFr1LO54adNu3du226a37t7j3q2WNVf3t7+wSn17Mru5abdaac/lqHxSdPuxYZqCW/r9pfVsx2tbabdPfsG1LNLWptNu7du01eLxGO2KopYSX+ZF0Pb7WpeQ6NpftUyfQ3Njh5b3Ypz+jqcFcu7TZvjCf3uwvS0m2ucKQAABKEAABCEAgBAEAoAAEEoAAAEoQAAEIQCAEAQCgAAQSgAAAShAAAQhAIAQKhbh4JYqB19dT7Q93cYK1BcMq7fXY3Zuo/SibR6tm9Y30/jDQwNqmfr6m3HHa/JmOZdQj+/v+8V0+pSRd9/M68xZdrd3KnvvwlKBdPul/fp+6C8aqi/HZYrtmNpnKe/fpLppGl3ytCtE8b0XWDRfEn/ODOdtV33tSn9z6Y3mMupZ1MZ2+6y4ers6zPeror65Y1NDW6ucaYAABCEAgBAEAoAAEEoAAAEoQAAEIQCAEAQCgAAQSgAAAShAAAQhAIAwF5zUZOwfZS+XCypZ0sVW89F2fDJ+6yhisCLxfV1Ht1L2027d7zYpJ4dzU2Zdq9csdQ0v237S+rZjtYO0+6uxfr5qfG8aXe1or8+a4wVJy6oN42nW/SPqeJxWw1Jfa2+6mA8r/9Z89KpOvXsRH7atHs0r684aWnImnZPTdmOpa11vnp2bGbctLshpa/oqMTVd7ORbKP+djhhqMTQ4kwBACAIBQCAIBQAAIJQAAAIQgEAIAgFAIAgFAAAglAAAAhCAQAgCAUAgCAUAAAicbjiw1BR4+KJGttuQ1dSJWYoSor+gn504RJb39Dw4L3q2fqsrStnX1+/aX75qpXq2Xjc1iHUkNV32mzdstW0e/XqNerZnTt3mna3zGsxze8dOKAfLtg6nkqh/nZbn7b9cFbr9N1H41OTtt3ltHo2W2vrmhocyZnm61tG1bNh1XYZ1jU1qmf7+npNuyu1+p8ffVObHmcKAABBKAAABKEAABCEAgBAEAoAAEEoAAAEoQAAEIQCAEAQCgAAQSgAAP6ImgursqEv4jAmWaVs2x0k9f0c46MTpt2rVy1Xzz777DbT7vmdzab56Qn9sf/VmhWm3Q0ZfQVAe5t+1tv0zBb17PqTTrXt3rLZNJ+p1Vc6jIzbai4aDVUH5cBWdtBZb9hdtB13Jq2vrMnt32/aPa+93TSfTtWqZ/PjtjqPff36WpnpvO0yPOGU9erZnh073FzjTAEAIAgFAIAgFAAAglAAAAhCAQAgCAUAgCAUAACCUAAACEIBACAIBQCAIBQAACIIw9BWnAIA+IvFmQIAQBAKAABBKAAABKEAABCEAgBAEAoAAEEoAAAEoQAAEIQCAMDN+r8TORnwjxW0FAAAAABJRU5ErkJggg==",
      "text/plain": [
       "<Figure size 640x480 with 1 Axes>"
      ]
     },
     "metadata": {},
     "output_type": "display_data"
    }
   ],
   "source": [
    "import numpy as np\n",
    "from tensorflow.keras.preprocessing import image\n",
    "\n",
    "\n",
    "# 새 이미지를 로드하고 모델 예측 수행\n",
    "def predict_new_image(image_path, model, class_names):\n",
    "    # 이미지 로드 및 전처리\n",
    "    img = image.load_img(image_path, target_size=(32, 32))  # CIFAR-10 크기로 리사이즈 빈칸채우기\n",
    "    img_array = image.img_to_array(img)  # 이미지를 배열로 변환\n",
    "    img_array = np.expand_dims(img_array, axis=0)  # 배치를 위해 차원 추가\n",
    "    img_array = img_array / 255.0  # 정규화 \n",
    "\n",
    "    # 예측 수행\n",
    "    predictions = model.predict(img_array)\n",
    "    predicted_class = np.argmax(predictions)  # 가장 높은 확률의 클래스 인덱스\n",
    "    class_name = class_names[predicted_class]  # 클래스 이름\n",
    "\n",
    "    # 결과 출력\n",
    "    plt.imshow(img)\n",
    "    plt.title(f\"Predicted: {class_name}\")\n",
    "    plt.axis('off')\n",
    "    plt.show()\n",
    "\n",
    "# 사용 예시\n",
    "image_path =  \"IMG_0481.JPG\"# 예측할 이미지의 경로 절대경로를 입력하면 됩니다. 뭔가 자신의 얼굴사진을 넣어보면 재미있는일이...\n",
    "predict_new_image(image_path, model, class_names)\n"
   ]
  },
  {
   "cell_type": "markdown",
   "metadata": {},
   "source": [
    "## 왜 255.0으로 나누었을까요? 이미지 전처리에 대한 지식이니 조사해보세요."
   ]
  },
  {
   "cell_type": "markdown",
   "metadata": {},
   "source": [
    "## Answer: \n",
    "#### 흑백(Grayscale) 이미지 기준\n",
    "0: 완전한 검정 (black)\n",
    "255: 완전한 흰색 (white)\n",
    "\n",
    "#### 컬러(RGB) 이미지의 경우\n",
    "각 채널(R, G, B) 값이 0~255\n",
    "예: [255, 255, 255] → 흰색\n",
    "[0, 0, 0] → 검정색\n",
    "[255, 0, 0] → 빨간색\n",
    "계산 안정성 증가\n",
    "→ 큰 값보다 작은 값(0~1)을 다루면 계산 오차가 적습니다.\n",
    "\n",
    "학습 속도 향상\n",
    "→ 가중치 업데이트 시 수렴 속도가 빨라집니다.\n",
    "\n",
    "활성화 함수와의 시너지\n",
    "→ sigmoid, tanh, relu 등 대부분의 활성화 함수는 입력값이 작을수록 더 잘 작동합니다.\n"
   ]
  },
  {
   "cell_type": "markdown",
   "metadata": {},
   "source": [
    "## 과제4. CNN의 inductive bias에 대해서 조사를 해보고 생각해 봅시다.\n",
    "### CNN은 왜 이미지 처리에 좋을까요? 이미지 말고도 CNN을 잘 쓸 수 있는데는 어디일까요?"
   ]
  },
  {
   "cell_type": "markdown",
   "metadata": {},
   "source": [
    "Answer: 지역적 연결성 (Local Connectivity):\n",
    "\n",
    "특성: 전통적인 인공신경망(ANN 또는 MLP)이 모든 입력 뉴런이 다음 계층의 모든 뉴런과 연결되는 완전 연결(fully connected) 구조를 가지는 반면, CNN의 합성곱(Convolutional) 계층 내의 각 뉴런은 입력 이미지의 특정 작고 국지적인 영역(이를 '수용장(Receptive Field)'이라고 함)하고만 연결된다.\n",
    "\n",
    "이미지 처리에서의 장점: 이미지에서 중요한 특징(예: 모서리, 선분, 질감, 작은 형태)은 대개 이미지의 특정 지역에 집중되어 나타난다. CNN은 이러한 지역적인 패턴을 효율적으로 감지하고 학습하는 데 최적화되어 있다. 이는 모델이 불필요한 전체 이미지 정보를 한꺼번에 처리하는 대신, 핵심적인 지역 정보에 집중할 수 있게 하여 모델의 파라미터 수를 획기적으로 줄이고 계산 효율성을 극대화한다.\n",
    "\n",
    "가중치 공유 (Parameter Sharing):\n",
    "\n",
    "특성: 하나의 필터(또는 커널)는 이미지의 특정 특징을 감지하기 위해 학습된 가중치 집합을 가지며, 이 필터는 이미지의 다양한 위치를 이동(슬라이딩)하면서 동일한 가중치 집합을 반복적으로 사용하여 특징을 추출한다.\n",
    "\n",
    "이미지 처리에서의 장점: 이 특성은 CNN에 병진 불변성(Translation Invariance)이라는 매우 중요한 능력을 부여한다. 즉, 특정 객체나 특징(예: 고양이의 눈)이 이미지의 왼쪽 상단에 있든, 중앙에 있든, 오른쪽 하단에 있든 상관없이 동일한 필터가 이를 인식할 수 있게 된다. 이는 학습에 필요한 데이터의 양을 줄여주고, 객체의 위치 변화에 덜 민감하게 반응함으로써 모델의 일반화 성능을 크게 향상시킨다.병진 불변성(Translation Invariance)은 어떤 대상이나 패턴의 위치가 공간적으로 이동하거나 변하더라도, 그 대상이나 패턴 자체의 특징이나 인식이 변하지 않고 동일하게 유지되는 성질을 말한다.\n",
    "\n",
    "풀링 (Pooling):\n",
    "\n",
    "특성: 합성곱 계층 다음에 주로 오는 풀링(Pooling) 계층(예: Max Pooling, Average Pooling)은 특징 맵(Feature Map)의 공간적 해상도를 줄이는(다운샘플링) 역할을 한다. 이는 추출된 특징 중 가장 중요하거나 대표적인 값을 선택하여 다음 계층으로 전달한다.\n",
    "\n",
    "이미지 처리에서의 장점: 풀링은 미세한 변형(예: 약간의 이동, 회전, 스케일 변화)에 대한 불변성(Invariance)을 제공한다. 이는 모델이 이미지 내의 작은 변화에도 불구하고 일관된 특징 표현을 유지하도록 도와, 잡음(noise)에 강하고 일반화 성능이 더욱 향상된다.\n",
    "\n",
    "계층적 특징 학습 (Hierarchical Feature Learning):\n",
    "\n",
    "특성: CNN은 여러 개의 합성곱 계층을 쌓아 올리는 심층 구조를 갖는다. 초기 계층의 필터는 이미지의 가장 기본적인 저수준 특징(예: 수직선, 수평선, 대각선, 단순한 색상 대비)을 학습한다. 이어서 다음 계층들은 이전 계층에서 학습된 저수준 특징들을 조합하여 더 복잡하고 추상적인 고수준 특징(예: 눈, 코, 귀와 같은 얼굴 부분, 자동차의 바퀴, 건물의 창문 등)을 학습한다.\n",
    "\n",
    "이미지 처리에서의 장점: 이러한 계층적 학습 방식은 인간의 시각 시스템(시각 피질)이 시각 정보를 처리하는 방식과 유사하며, 이미지 내의 복잡하고 다층적인 시각적 계층 구조를 매우 효과적으로 모델링할 수 있게 한다. 이는 단순히 특징을 추출하는 것을 넘어, 이미지에 담긴 의미론적 내용을 깊이 이해하는 데 기여한다.\n",
    "\n",
    "이러한 Inductive Bias들은 이미지 데이터가 내포하고 있는 고유한 공간적 및 구조적 특성(지역성, 반복성, 계층성)과 완벽하게 조화를 이루며, CNN이 이미지 분류, 객체 탐지, 이미지 분할, 이미지 생성 등 다양한 컴퓨터 비전 작업에서 혁신적인 성과를 달성할 수 있도록 하는 근본적인 원동력이 된다.\n",
    "\n",
    "이미지 말고도 CNN을 잘 쓸 수 있는 곳\n",
    "\n",
    "CNN의 강력한 Inductive Bias, 특히 지역적 연결성과 가중치 공유는 이미지 데이터에만 국한되지 않고, 다음과 같은 특성을 가진 다양한 종류의 데이터에도 매우 효과적으로 적용될 수 있다.\n",
    "\n",
    "데이터가 격자형(Grid-like) 구조를 가지는 경우: 데이터 포인트들이 픽셀처럼 규칙적인 배열을 이루고 있으며, 인접한 데이터 포인트 간에 의미 있는 공간적 또는 시간적 관계가 존재하는 경우.\n",
    "\n",
    "데이터 내에 지역적인 패턴이 존재하고, 이 패턴이 데이터 내에서 반복적으로 나타나는 경우: 특정 특징이나 패턴이 데이터의 여러 위치에서 유사한 형태로 발현될 수 있는 경우.\n",
    "\n",
    "데이터의 병진 불변성(Translation Invariance)이 중요한 경우: 데이터 내의 패턴이 위치가 바뀌어도 동일하게 인식되고 처리되어야 하는 경우.\n",
    "\n",
    "이러한 특성들을 만족하며 CNN이 성공적으로 활용되는 주요 응용 분야는 다음과 같다:\n",
    "\n",
    "음성 처리 (Speech Processing):\n",
    "\n",
    "적용 방식: 원본 음성 신호는 1차원 시계열 데이터이지만, 이를 시간-주파수 스펙트로그램(Spectrogram)과 같은 2차원 이미지 형태로 변환하여 CNN에 입력한다. 스펙트로그램은 시간 축과 주파수 축을 가지는 격자형 데이터로, 음성 내의 음소, 단어, 억양 등과 관련된 지역적인 주파수-시간 패턴이 존재하며, 이러한 패턴은 시간 축을 따라 반복될 수 있다.\n",
    "\n",
    "예시: 음성 인식(Speech Recognition), 화자 식별(Speaker Identification), 감정 인식(Emotion Recognition), 음성 활성 감지(Voice Activity Detection).\n",
    "\n",
    "자연어 처리 (Natural Language Processing, NLP):\n",
    "\n",
    "적용 방식: 문장이나 문서 내의 단어들을 '단어 임베딩(Word Embedding)' 기술을 통해 고차원 벡터로 변환한 후, 이 임베딩 벡터들을 문장 순서대로 쌓아 1차원 또는 2차원(여러 임베딩 벡터를 채널처럼 쌓는 경우)의 격자형 데이터를 생성한다. CNN의 필터는 문장 내에서 'n-gram'(연속된 단어 시퀀스)과 같은 지역적인 의미 패턴(예: 특정 구절, 관용어구)을 효과적으로 추출할 수 있다.\n",
    "\n",
    "예시: 텍스트 분류(Text Classification), 감성 분석(Sentiment Analysis), 개체명 인식(Named Entity Recognition), 질의응답 시스템, 기계 번역(특히 어텐션 메커니즘과 결합 시).\n",
    "\n",
    "시계열 데이터 분석 (Time Series Analysis):\n",
    "\n",
    "적용 방식: 주식 가격 변동, 센서 데이터, 의료 생체 신호(ECG, EEG) 등과 같은 1차원 시계열 데이터에 1D CNN을 직접 적용하거나, 다변량 시계열의 경우 여러 변수를 채널처럼 구성하여 2D CNN을 적용할 수 있다. CNN 필터는 시계열 데이터 내의 지역적인 트렌드, 피크, 주기성, 이상 패턴 등을 감지하는 데 매우 유용하다.\n",
    "\n",
    "예시: 이상 탐지(Anomaly Detection), 미래 값 예측(Forecasting), 활동 분류(Activity Classification), 산업 설비의 상태 모니터링.\n",
    "\n",
    "추천 시스템 (Recommender Systems):\n",
    "\n",
    "적용 방식: 사용자-아이템 상호작용 매트릭스(사용자가 어떤 아이템에 대해 부여한 평점이나 행동 기록)나 사용자의 행동 시퀀스(예: 연속적인 웹사이트 클릭 기록)를 격자형 데이터로 간주하여 CNN을 적용할 수 있다. CNN은 사용자의 취향이나 아이템의 특징을 나타내는 지역적인 패턴을 학습하여, 보다 개인화되고 정확한 추천을 제공하는 데 기여한다.\n",
    "\n",
    "예시: 영화, 음악, 상품 추천.\n",
    "\n",
    "이처럼 CNN의 근본적인 메커니즘은 단순히 이미지 데이터에만 국한되지 않고, 데이터 내에 지역적이고 반복적인 패턴이 존재하며, 위치 변화에 둔감한 특징 추출이 필요한 모든 형태의 격자형 또는 순차적 데이터에서 강력한 특징 추출기로서의 잠재력을 발휘한다."
   ]
  }
 ],
 "metadata": {
  "accelerator": "GPU",
  "colab": {
   "authorship_tag": "ABX9TyN8CYc8ZH9vkV2j3L9Mb357",
   "gpuType": "T4",
   "provenance": []
  },
  "kernelspec": {
   "display_name": "Python (BOAZ 3.10)",
   "language": "python",
   "name": "boaz310"
  },
  "language_info": {
   "codemirror_mode": {
    "name": "ipython",
    "version": 3
   },
   "file_extension": ".py",
   "mimetype": "text/x-python",
   "name": "python",
   "nbconvert_exporter": "python",
   "pygments_lexer": "ipython3",
   "version": "3.10.13"
  }
 },
 "nbformat": 4,
 "nbformat_minor": 0
}
