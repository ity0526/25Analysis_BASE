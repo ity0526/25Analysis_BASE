{
  "cells": [
    {
      "cell_type": "code",
      "metadata": {
        "id": "gaXvKTIYi6r6",
        "ExecuteTime": {
          "end_time": "2025-07-23T04:42:53.827614Z",
          "start_time": "2025-07-23T04:42:51.774902Z"
        }
      },
      "source": [
        "# 그럼 첫번째 레슨 : 라이브러리 불러오기\n",
        "\n",
        "#필요한 딥러닝 관련 라이브러리를 불러옵니다.\n",
        "\n",
        "import tensorflow as tf\n",
        "from tensorflow.keras import datasets, layers, models\n",
        "import matplotlib.pyplot as plt"
      ],
      "outputs": [],
      "execution_count": 1
    },
    {
      "cell_type": "code",
      "metadata": {
        "colab": {
          "base_uri": "https://localhost:8080/"
        },
        "id": "JQ4PgaVJjDaZ",
        "outputId": "60f0678e-e741-40a9-a21c-cf949c0b991a",
        "ExecuteTime": {
          "end_time": "2025-07-23T04:43:36.409211Z",
          "start_time": "2025-07-23T04:42:58.924916Z"
        }
      },
      "source": [
        "# 🗂️ Step 2: 데이터 불러오기\n",
        "\n",
        "#CIFAR-10 데이터셋을 불러오고, 학습용/테스트용으로 분리합니다.\n",
        "\n",
        "(train_images, train_labels), (test_images, test_labels) = datasets.cifar10.load_data()\n"
      ],
      "outputs": [
        {
          "output_type": "stream",
          "name": "stdout",
          "text": [
            "Downloading data from https://www.cs.toronto.edu/~kriz/cifar-10-python.tar.gz\n",
            "\u001b[1m170498071/170498071\u001b[0m \u001b[32m━━━━━━━━━━━━━━━━━━━━\u001b[0m\u001b[37m\u001b[0m \u001b[1m5s\u001b[0m 0us/step\n"
          ]
        }
      ],
      "execution_count": 2
    },
    {
      "cell_type": "markdown",
      "metadata": {
        "id": "_gQ0e_yomSLw"
      },
      "source": [
        "## 과제1. 데이터의 구조를 살펴보세요. 사이즈는?"
      ]
    },
    {
      "cell_type": "code",
      "execution_count": 3,
      "metadata": {
        "id": "w0i9tMIdmSLx"
      },
      "outputs": [],
      "source": [
        "# 여기에서 확인해 보세요."
      ]
    },
    {
      "cell_type": "code",
      "execution_count": 4,
      "metadata": {
        "id": "SvdfBtPFjLhm"
      },
      "outputs": [],
      "source": [
        "# 🏷️ Step 3: 클래스 이름 정의\n",
        "\n",
        "#CIFAR-10의 라벨은 숫자로 되어 있으므로, 사람이 이해할 수 있도록 이름을 부여합니다.\n",
        "class_names = ['airplane', 'automobile', 'bird', 'cat', 'deer',\n",
        "               'dog', 'frog', 'horse', 'ship', 'truck']"
      ]
    },
    {
      "cell_type": "markdown",
      "metadata": {
        "id": "e_Zdx8m3mSLy"
      },
      "source": [
        "## 과제2. 아래 코드의 빈칸을 채워 CNN 모델을 완성해보세요.\n",
        "#### layer나 패딩 혹은 drop out, batch normalization을 추가해 가며 모델의 정확도 변화를 보는 것도 좋습니다."
      ]
    },
    {
      "cell_type": "code",
      "execution_count": 16,
      "metadata": {
        "id": "b6KfEI2ljboP"
      },
      "outputs": [],
      "source": [
        "# 🧱 Step 4: CNN 모델 구성\n",
        "# Convolution → MaxPooling → Flatten → Dense 구조로 CNN을 설계합니다.\n",
        "# 아래의 빈칸 (___)을 채워 모델을 완성해보세요.\n",
        "\n",
        "model = models.Sequential()\n",
        "\n",
        "# 첫 번째 합성곱 레이어\n",
        "model.add(layers.Conv2D(64, (3, 3), activation='relu', input_shape=(32, 32, 3)))  # TODO: 커널 개수 설정\n",
        "\n",
        "# 첫 번째 풀링 레이어\n",
        "model.add(layers.MaxPooling2D((2, 2)))  # TODO: 풀링 크기 설정\n",
        "\n",
        "# 두 번째 합성곱 레이어\n",
        "model.add(layers.Conv2D(128, (3, 3), activation='relu'))  # TODO: 커널 크기 설정\n",
        "\n",
        "# 두 번째 풀링 레이어\n",
        "model.add(layers.MaxPooling2D((2, 2)))\n",
        "\n",
        "# 세 번째 합성곱 레이어\n",
        "model.add(layers.Conv2D(128, (3, 3), activation='relu'))  # TODO: 커널 개수 설정\n",
        "\n",
        "# Flatten + Fully Connected Layer\n",
        "model.add(layers.Flatten())\n",
        "model.add(layers.Dense(128))  # TODO: 은닉층 유닛 수 설정\n",
        "model.add(layers.Dense(10))  # 출력층: CIFAR-10은 클래스가 10개"
      ]
    },
    {
      "cell_type": "markdown",
      "metadata": {
        "id": "R04c3l6emSLy"
      },
      "source": [
        "## 자신이 채운 코드를 기반으로 각 레이어별 Feature Map 크기를 계산해 보세요.\n",
        "(padding은 디폴트로 없습니다.)"
      ]
    },
    {
      "cell_type": "markdown",
      "metadata": {
        "id": "bP6FTy0JmSLy"
      },
      "source": [
        "Answer:"
      ]
    },
    {
      "cell_type": "code",
      "execution_count": 17,
      "metadata": {
        "id": "e5GLqIzikILD"
      },
      "outputs": [],
      "source": [
        "# ⚙️ Step 5: 모델 컴파일\n",
        "\n",
        "#모델을 학습할 수 있도록 컴파일합니다. 손실 함수, 최적화 방법, 평가지표를 설정합니다.\n",
        "\n",
        "model.compile(optimizer='adam',\n",
        "              loss=tf.keras.losses.SparseCategoricalCrossentropy(from_logits=True),\n",
        "              metrics=['accuracy'])"
      ]
    },
    {
      "cell_type": "code",
      "execution_count": 18,
      "metadata": {
        "colab": {
          "base_uri": "https://localhost:8080/",
          "height": 830
        },
        "id": "i9HR7D_umSLz",
        "outputId": "aabf3d84-320e-4115-ee19-9e2401941d4a"
      },
      "outputs": [
        {
          "output_type": "stream",
          "name": "stdout",
          "text": [
            "Epoch 1/10\n",
            "\u001b[1m1563/1563\u001b[0m \u001b[32m━━━━━━━━━━━━━━━━━━━━\u001b[0m\u001b[37m\u001b[0m \u001b[1m13s\u001b[0m 6ms/step - accuracy: 0.2972 - loss: 4.0032 - val_accuracy: 0.4784 - val_loss: 1.4351\n",
            "Epoch 2/10\n",
            "\u001b[1m1563/1563\u001b[0m \u001b[32m━━━━━━━━━━━━━━━━━━━━\u001b[0m\u001b[37m\u001b[0m \u001b[1m7s\u001b[0m 4ms/step - accuracy: 0.5083 - loss: 1.3811 - val_accuracy: 0.5306 - val_loss: 1.3044\n",
            "Epoch 3/10\n",
            "\u001b[1m1563/1563\u001b[0m \u001b[32m━━━━━━━━━━━━━━━━━━━━\u001b[0m\u001b[37m\u001b[0m \u001b[1m7s\u001b[0m 4ms/step - accuracy: 0.5652 - loss: 1.2351 - val_accuracy: 0.5831 - val_loss: 1.1939\n",
            "Epoch 4/10\n",
            "\u001b[1m1563/1563\u001b[0m \u001b[32m━━━━━━━━━━━━━━━━━━━━\u001b[0m\u001b[37m\u001b[0m \u001b[1m10s\u001b[0m 4ms/step - accuracy: 0.6110 - loss: 1.1220 - val_accuracy: 0.6114 - val_loss: 1.1356\n",
            "Epoch 5/10\n",
            "\u001b[1m1563/1563\u001b[0m \u001b[32m━━━━━━━━━━━━━━━━━━━━\u001b[0m\u001b[37m\u001b[0m \u001b[1m10s\u001b[0m 4ms/step - accuracy: 0.6479 - loss: 1.0193 - val_accuracy: 0.6309 - val_loss: 1.0771\n",
            "Epoch 6/10\n",
            "\u001b[1m1563/1563\u001b[0m \u001b[32m━━━━━━━━━━━━━━━━━━━━\u001b[0m\u001b[37m\u001b[0m \u001b[1m6s\u001b[0m 4ms/step - accuracy: 0.6761 - loss: 0.9380 - val_accuracy: 0.6561 - val_loss: 1.0200\n",
            "Epoch 7/10\n",
            "\u001b[1m1563/1563\u001b[0m \u001b[32m━━━━━━━━━━━━━━━━━━━━\u001b[0m\u001b[37m\u001b[0m \u001b[1m11s\u001b[0m 4ms/step - accuracy: 0.7001 - loss: 0.8641 - val_accuracy: 0.6571 - val_loss: 1.0389\n",
            "Epoch 8/10\n",
            "\u001b[1m1563/1563\u001b[0m \u001b[32m━━━━━━━━━━━━━━━━━━━━\u001b[0m\u001b[37m\u001b[0m \u001b[1m10s\u001b[0m 4ms/step - accuracy: 0.7257 - loss: 0.8002 - val_accuracy: 0.6629 - val_loss: 1.0174\n",
            "Epoch 9/10\n",
            "\u001b[1m1563/1563\u001b[0m \u001b[32m━━━━━━━━━━━━━━━━━━━━\u001b[0m\u001b[37m\u001b[0m \u001b[1m7s\u001b[0m 4ms/step - accuracy: 0.7448 - loss: 0.7436 - val_accuracy: 0.6645 - val_loss: 1.0404\n",
            "Epoch 10/10\n",
            "\u001b[1m1563/1563\u001b[0m \u001b[32m━━━━━━━━━━━━━━━━━━━━\u001b[0m\u001b[37m\u001b[0m \u001b[1m6s\u001b[0m 4ms/step - accuracy: 0.7624 - loss: 0.6852 - val_accuracy: 0.6715 - val_loss: 1.0459\n",
            "313/313 - 1s - 3ms/step - accuracy: 0.6715 - loss: 1.0459\n"
          ]
        },
        {
          "output_type": "display_data",
          "data": {
            "text/plain": [
              "<Figure size 640x480 with 1 Axes>"
            ],
            "image/png": "[encoded data removed]"
          },
          "metadata": {}
        }
      ],
      "source": [
        "# 🔥 Step 6: 모델 학습 및 성능 평가\n",
        "\n",
        "history = model.fit(train_images, train_labels, epochs=10,\n",
        "                    validation_data=(test_images, test_labels))\n",
        "#모델 성능 평가\n",
        "plt.plot(history.history['accuracy'],label='accuracy')\n",
        "plt.plot(history.history['val_accuracy'],label = 'val_accuracy')\n",
        "plt.xlabel('Epoch')\n",
        "plt.ylabel('Accuracy')\n",
        "plt.ylim([0.5, 1])\n",
        "plt.legend(loc='lower right')\n",
        "\n",
        "test_loss, test_acc = model.evaluate(test_images,\n",
        "                                     test_labels,\n",
        "                                     verbose=2)\n"
      ]
    },
    {
      "cell_type": "code",
      "execution_count": 19,
      "metadata": {
        "colab": {
          "base_uri": "https://localhost:8080/"
        },
        "id": "Cc2Uh7qqlGAi",
        "outputId": "9bfebeaf-0aff-4db9-c411-3f63bd0df06e"
      },
      "outputs": [
        {
          "output_type": "stream",
          "name": "stdout",
          "text": [
            "Test Accuracy is 0.671500027179718\n"
          ]
        }
      ],
      "source": [
        "print('Test Accuracy is',test_acc)"
      ]
    },
    {
      "cell_type": "markdown",
      "metadata": {
        "id": "Bub2EDm-mSLz"
      },
      "source": [
        "## 과제3. 직접사용해 보기. 이미지를 로드하고 cifar-10의 사이즈로 리사이즈"
      ]
    },
    {
      "cell_type": "code",
      "execution_count": 22,
      "metadata": {
        "id": "Ka8GtI6ElKA2",
        "colab": {
          "base_uri": "https://localhost:8080/",
          "height": 446
        },
        "outputId": "25bea2dc-1810-4f58-db60-d00d75a2faf9"
      },
      "outputs": [
        {
          "output_type": "stream",
          "name": "stdout",
          "text": [
            "\u001b[1m1/1\u001b[0m \u001b[32m━━━━━━━━━━━━━━━━━━━━\u001b[0m\u001b[37m\u001b[0m \u001b[1m0s\u001b[0m 29ms/step\n"
          ]
        },
        {
          "output_type": "display_data",
          "data": {
            "text/plain": [
              "<Figure size 640x480 with 1 Axes>"
            ],
            "image/png": "[encoded data removed]"
          },
          "metadata": {}
        }
      ],
      "source": [
        "import numpy as np\n",
        "from tensorflow.keras.preprocessing import image\n",
        "\n",
        "# 새 이미지를 로드하고 모델 예측 수행\n",
        "def predict_new_image(image_path, model, class_names):\n",
        "    # 이미지 로드 및 전처리\n",
        "    img = image.load_img(image_path, target_size=(32, 32))  # CIFAR-10 크기로 리사이즈 빈칸채우기\n",
        "    img_array = image.img_to_array(img)  # 이미지를 배열로 변환\n",
        "    img_array = np.expand_dims(img_array, axis=0)  # 배치를 위해 차원 추가\n",
        "    img_array = img_array / 255.0  # 정규화\n",
        "\n",
        "    # 예측 수행\n",
        "    predictions = model.predict(img_array)\n",
        "    predicted_class = np.argmax(predictions)  # 가장 높은 확률의 클래스 인덱스\n",
        "    class_name = class_names[predicted_class]  # 클래스 이름\n",
        "\n",
        "    # 결과 출력\n",
        "    plt.imshow(img)\n",
        "    plt.title(f\"Predicted: {class_name}\")\n",
        "    plt.axis('off')\n",
        "    plt.show()\n",
        "\n",
        "# 사용 예시\n",
        "image_path = \"me.jpeg\"\n",
        "predict_new_image(image_path, model, class_names)\n"
      ]
    },
    {
      "cell_type": "markdown",
      "metadata": {
        "id": "CM4lzGATmSLz"
      },
      "source": [
        "## 왜 255.0으로 나누었을까요? 이미지 전처리에 대한 지식이니 조사해보세요."
      ]
    },
    {
      "cell_type": "markdown",
      "metadata": {
        "id": "YU8Y20oRmSLz"
      },
      "source": [
        "Answer: 이미지에서는 RGB 채널을 기준으로 각 픽셀당 0\\~255 범위의 값을 가진다.\n",
        "이를 255.0 으로 나누면 0\\~1사이의 값으로 정규화된다.\n",
        "\n",
        "만약 값이 너무 크면 가중치의 gradient가 함께 커져 너무 빨리 이동하거나, 발산할 위험이 있다.\n",
        "값을 0~1로 범위를 작게 하여 더욱 안정적으로 gradient가 수렴할 수 있게 해준다."
      ]
    },
    {
      "cell_type": "markdown",
      "metadata": {
        "id": "6u7SCAmUmSLz"
      },
      "source": [
        "## 과제4. CNN의 inductive bias에 대해서 조사를 해보고 생각해 봅시다.\n",
        "### CNN은 왜 이미지 처리에 좋을까요? 이미지 말고도 CNN을 잘 쓸 수 있는데는 어디일까요?"
      ]
    },
    {
      "cell_type": "markdown",
      "metadata": {
        "id": "-llGq8qBmSLz"
      },
      "source": [
        "Answer:\n",
        "\n",
        "1. 국소성(Locality)\n",
        "\n",
        "이미지는 공간 구조가 있는 데이터이다. 즉, 인접한 픽셀끼리는 관련이 깊고, 멀리 떨어진 픽셀 끼리는 덜 관련이 있다.\n",
        "\n",
        "예를 들어 고양이의 사진이 있다면 귀와 얼굴의 픽셀들은 밀접한 관계가 있지만, 그에 비해 귀와 꼬리는 관계가 거의 없다.\n",
        "\n",
        "inductive bias는 이러한 국소성을 가정하고 학습이 진행될 수 있도록 하며, 커널을 이용해 모서리, 선 등의 작은 영역의 국소적인 특징을 추출할 수 있다.\n",
        "\n",
        "2. 가중치 공유(위치 불변성)\n",
        "\n",
        "이미지 내에서의 패턴은 위치에 관계없이 존재할 수 있다.\n",
        "예를 들어 고양이의 위치는 이미지의 왼쪽 아래, 오른쪽 위 그 어떤 곳에 있어도 상관없다.\n",
        "\n",
        "CNN은 학습한 커널의 가중치를 전체 이미지에 대해서 공유한다. 그 커널이 가지는 가중치는 특정한 특징을 탐지할 수 있는데, 이미지의 어느 특정 위치만 확인하는 것이 아닌 이미지 전체를 돌아보며 확인하므로 어떠한 특징이 어디에 있더라고 같은 커널로 잡아낼 수 있다.\n",
        "\n",
        "즉 위치에 관계없이 같은 패턴은 하나의 커널을 이용해 잡아낼 수 있다는 inductive bias를 가지게 된다.\n",
        "\n",
        "\n",
        "이러한 CNN의 inductive bias의 특징은 시계열 분석에서도 이용될 수 있다.\n",
        "특히 심전도 데이터 분석에서 inductive bias의 특징은 효과적으로 작용한다.\n",
        "\n",
        "심전도 데이터에서는 P파, QRS파, T파 등 특정한 파형들이 국소 구간에서 반복적으로 나타나는 양상을 볼 수 있다.\n",
        "특정한 파형과 그러한 파형이 시간적으로 어디에든 위치할 수 있다는 유동성은 위에서 설명했던 inductive bias의 국소성과 위치 불변성을 잘 활용할 수 있는 이유이기도 하다\n",
        "\n"
      ]
    }
  ],
  "metadata": {
    "accelerator": "GPU",
    "colab": {
      "gpuType": "T4",
      "provenance": []
    },
    "kernelspec": {
      "display_name": "Python 3 (ipykernel)",
      "name": "python3",
      "language": "python"
    },
    "language_info": {
      "codemirror_mode": {
        "name": "ipython",
        "version": 3
      },
      "file_extension": ".py",
      "mimetype": "text/x-python",
      "name": "python",
      "nbconvert_exporter": "python",
      "pygments_lexer": "ipython3",
      "version": "3.11.9"
    }
  },
  "nbformat": 4,
  "nbformat_minor": 0
}